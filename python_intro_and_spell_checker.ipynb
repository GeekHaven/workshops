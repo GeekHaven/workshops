{
 "metadata": {
  "name": "",
  "signature": "sha256:12bd23f42aa0ab4b276f73fecb8a43bcca5ef733ef620eecc390662d62a0fa96"
 },
 "nbformat": 3,
 "nbformat_minor": 0,
 "worksheets": [
  {
   "cells": [
    {
     "cell_type": "code",
     "collapsed": false,
     "input": [],
     "language": "python",
     "metadata": {},
     "outputs": []
    },
    {
     "cell_type": "markdown",
     "metadata": {},
     "source": [
      "#Yes, it's really named after Monty Python"
     ]
    },
    {
     "cell_type": "code",
     "collapsed": false,
     "input": [
      "from IPython import display"
     ],
     "language": "python",
     "metadata": {},
     "outputs": [],
     "prompt_number": 1
    },
    {
     "cell_type": "markdown",
     "metadata": {},
     "source": [
      "#load lessons learned from a life wasted"
     ]
    },
    {
     "cell_type": "code",
     "collapsed": false,
     "input": [
      "display.YouTubeVideo('csyL9EC0S0c?t=24m47s')"
     ],
     "language": "python",
     "metadata": {},
     "outputs": [
      {
       "html": [
        "\n",
        "        <iframe\n",
        "            width=\"400\"\n",
        "            height=300\"\n",
        "            src=\"https://www.youtube.com/embed/csyL9EC0S0c?t=24m47s\"\n",
        "            frameborder=\"0\"\n",
        "            allowfullscreen\n",
        "        ></iframe>\n",
        "        "
       ],
       "metadata": {},
       "output_type": "pyout",
       "prompt_number": 3,
       "text": [
        "<IPython.lib.display.YouTubeVideo at 0x7f38d4234d10>"
       ]
      }
     ],
     "prompt_number": 3
    },
    {
     "cell_type": "code",
     "collapsed": false,
     "input": [
      "%load python_tour.md"
     ],
     "language": "python",
     "metadata": {},
     "outputs": [],
     "prompt_number": 1
    },
    {
     "cell_type": "markdown",
     "metadata": {},
     "source": [
      "#Turtle Graphics"
     ]
    },
    {
     "cell_type": "markdown",
     "metadata": {},
     "source": [
      "I think substack's turtle graphics was Javascript.\n",
      "\n",
      "Mine was Python, something about the elegance appeals to the mathematician inside me. It's much less about engineering\n",
      "\n",
      "Like Marijuana laws the dutch are leading the way in readable programming.\n",
      "\n",
      "\n"
     ]
    },
    {
     "cell_type": "markdown",
     "metadata": {},
     "source": [
      "#Philosophy"
     ]
    },
    {
     "cell_type": "code",
     "collapsed": false,
     "input": [
      "import this"
     ],
     "language": "python",
     "metadata": {},
     "outputs": [
      {
       "output_type": "stream",
       "stream": "stdout",
       "text": [
        "The Zen of Python, by Tim Peters\n",
        "\n",
        "Beautiful is better than ugly.\n",
        "Explicit is better than implicit.\n",
        "Simple is better than complex.\n",
        "Complex is better than complicated.\n",
        "Flat is better than nested.\n",
        "Sparse is better than dense.\n",
        "Readability counts.\n",
        "Special cases aren't special enough to break the rules.\n",
        "Although practicality beats purity.\n",
        "Errors should never pass silently.\n",
        "Unless explicitly silenced.\n",
        "In the face of ambiguity, refuse the temptation to guess.\n",
        "There should be one-- and preferably only one --obvious way to do it.\n",
        "Although that way may not be obvious at first unless you're Dutch.\n",
        "Now is better than never.\n",
        "Although never is often better than *right* now.\n",
        "If the implementation is hard to explain, it's a bad idea.\n",
        "If the implementation is easy to explain, it may be a good idea.\n",
        "Namespaces are one honking great idea -- let's do more of those!\n"
       ]
      }
     ],
     "prompt_number": 25
    },
    {
     "cell_type": "markdown",
     "metadata": {},
     "source": [
      "So you might want to use python as if you're trying to do something that is just about munging text or most things that aren't about making event driven websites"
     ]
    },
    {
     "cell_type": "markdown",
     "metadata": {},
     "source": [
      "#So let's talk about whitespace.\n",
      "The __off side rule__.\n",
      "\n",
      "Who can explain what that is in football?\n"
     ]
    },
    {
     "cell_type": "code",
     "collapsed": false,
     "input": [
      "def is_even(a):\n",
      "    if a % 2 == 0:\n",
      "        print('Even!')\n",
      "        return True\n",
      "    print('Odd!')\n",
      "    return False"
     ],
     "language": "python",
     "metadata": {},
     "outputs": [],
     "prompt_number": 26
    },
    {
     "cell_type": "markdown",
     "metadata": {},
     "source": [
      "#what python is good at?\n",
      "\n",
      "+ multiple assignment\n",
      "+ list comprehension\n",
      "+ iterating over the dictionary\n",
      "+ dictionary comprehension\n",
      "\n",
      "\n",
      "##one way to do it!\n",
      "\n",
      "\n"
     ]
    },
    {
     "cell_type": "code",
     "collapsed": false,
     "input": [
      "#multiple assignment\n",
      "\n",
      "a, b, c = 'spam', 'eggs', 'parrot'\n",
      "print(a, b, c)"
     ],
     "language": "python",
     "metadata": {},
     "outputs": [
      {
       "output_type": "stream",
       "stream": "stdout",
       "text": [
        "('spam', 'eggs', 'parrot')\n"
       ]
      }
     ],
     "prompt_number": 8
    },
    {
     "cell_type": "markdown",
     "metadata": {},
     "source": [
      "#Iteration Idiom"
     ]
    },
    {
     "cell_type": "code",
     "collapsed": false,
     "input": [
      "for (i=0; i < mylist_length; i++) {\n",
      "   do_something(mylist[i]);\n",
      "}\n",
      "\n",
      "#The direct equivalent in Python would be this:\n",
      "\n",
      "i = 0\n",
      "while i < mylist_length:\n",
      "    do_something(mylist[i])\n",
      "    i += 1\n",
      "\n",
      "#That, however, while it works, is not considered Pythonic. It's not an idiom the Python language encourages. We could improve it. A typical idiom in Python to generate all numbers in a list would be to use something like the built-in range() function:\n",
      "\n",
      "for i in range(mylist_length):\n",
      "    do_something(mylist[i])\n",
      "\n",
      "#This is however not Pythonic either. Here is the Pythonic way, encouraged by the language itself:\n",
      "\n",
      "for element in mylist:\n",
      "    do_something(element)\n"
     ],
     "language": "python",
     "metadata": {},
     "outputs": []
    },
    {
     "cell_type": "code",
     "collapsed": false,
     "input": [
      "numbers = [1,2,3,4]\n",
      "for number in numbers:\n",
      "    print(number)"
     ],
     "language": "python",
     "metadata": {},
     "outputs": [
      {
       "output_type": "stream",
       "stream": "stdout",
       "text": [
        "1\n",
        "2\n",
        "3\n",
        "4\n"
       ]
      }
     ],
     "prompt_number": 9
    },
    {
     "cell_type": "code",
     "collapsed": false,
     "input": [
      "#Hacker School"
     ],
     "language": "python",
     "metadata": {},
     "outputs": [],
     "prompt_number": 27
    },
    {
     "cell_type": "code",
     "collapsed": false,
     "input": [
      "rice_crispies.items()"
     ],
     "language": "python",
     "metadata": {},
     "outputs": [
      {
       "metadata": {},
       "output_type": "pyout",
       "prompt_number": 13,
       "text": [
        "[(3, 'Crackle'), (5, 'Pop')]"
       ]
      }
     ],
     "prompt_number": 13
    },
    {
     "cell_type": "code",
     "collapsed": false,
     "input": [
      "rice_crispies = {3:'Crackle', 5:'Pop'}\n",
      "for i in range(101):\n",
      "    print(i)\n",
      "    for flake in rice_crispies.keys():\n",
      "        if i % flake == 0:\n",
      "            print(rice_crispies[flake])"
     ],
     "language": "python",
     "metadata": {},
     "outputs": [
      {
       "output_type": "stream",
       "stream": "stdout",
       "text": [
        "0\n",
        "Crackle\n",
        "Pop\n",
        "1\n",
        "2\n",
        "3\n",
        "Crackle\n",
        "4\n",
        "5\n",
        "Pop\n",
        "6\n",
        "Crackle\n",
        "7\n",
        "8\n",
        "9\n",
        "Crackle\n",
        "10\n",
        "Pop\n",
        "11\n",
        "12\n",
        "Crackle\n",
        "13\n",
        "14\n",
        "15\n",
        "Crackle\n",
        "Pop\n",
        "16\n",
        "17\n",
        "18\n",
        "Crackle\n",
        "19\n",
        "20\n",
        "Pop\n",
        "21\n",
        "Crackle\n",
        "22\n",
        "23\n",
        "24\n",
        "Crackle\n",
        "25\n",
        "Pop\n",
        "26\n",
        "27\n",
        "Crackle\n",
        "28\n",
        "29\n",
        "30\n",
        "Crackle\n",
        "Pop\n",
        "31\n",
        "32\n",
        "33\n",
        "Crackle\n",
        "34\n",
        "35\n",
        "Pop\n",
        "36\n",
        "Crackle\n",
        "37\n",
        "38\n",
        "39\n",
        "Crackle\n",
        "40\n",
        "Pop\n",
        "41\n",
        "42\n",
        "Crackle\n",
        "43\n",
        "44\n",
        "45\n",
        "Crackle\n",
        "Pop\n",
        "46\n",
        "47\n",
        "48\n",
        "Crackle\n",
        "49\n",
        "50\n",
        "Pop\n",
        "51\n",
        "Crackle\n",
        "52\n",
        "53\n",
        "54\n",
        "Crackle\n",
        "55\n",
        "Pop\n",
        "56\n",
        "57\n",
        "Crackle\n",
        "58\n",
        "59\n",
        "60\n",
        "Crackle\n",
        "Pop\n",
        "61\n",
        "62\n",
        "63\n",
        "Crackle\n",
        "64\n",
        "65\n",
        "Pop\n",
        "66\n",
        "Crackle\n",
        "67\n",
        "68\n",
        "69\n",
        "Crackle\n",
        "70\n",
        "Pop\n",
        "71\n",
        "72\n",
        "Crackle\n",
        "73\n",
        "74\n",
        "75\n",
        "Crackle\n",
        "Pop\n",
        "76\n",
        "77\n",
        "78\n",
        "Crackle\n",
        "79\n",
        "80\n",
        "Pop\n",
        "81\n",
        "Crackle\n",
        "82\n",
        "83\n",
        "84\n",
        "Crackle\n",
        "85\n",
        "Pop\n",
        "86\n",
        "87\n",
        "Crackle\n",
        "88\n",
        "89\n",
        "90\n",
        "Crackle\n",
        "Pop\n",
        "91\n",
        "92\n",
        "93\n",
        "Crackle\n",
        "94\n",
        "95\n",
        "Pop\n",
        "96\n",
        "Crackle\n",
        "97\n",
        "98\n",
        "99\n",
        "Crackle\n",
        "100\n",
        "Pop\n"
       ]
      }
     ],
     "prompt_number": 10
    },
    {
     "cell_type": "code",
     "collapsed": false,
     "input": [
      "ahundred = range(101)\n",
      "new_list = [i*2 for i in ahundred if i % 2 == 0]\n",
      "print(new_list)"
     ],
     "language": "python",
     "metadata": {},
     "outputs": [
      {
       "output_type": "stream",
       "stream": "stdout",
       "text": [
        "[0, 4, 8, 12, 16, 20, 24, 28, 32, 36, 40, 44, 48, 52, 56, 60, 64, 68, 72, 76, 80, 84, 88, 92, 96, 100, 104, 108, 112, 116, 120, 124, 128, 132, 136, 140, 144, 148, 152, 156, 160, 164, 168, 172, 176, 180, 184, 188, 192, 196, 200]\n"
       ]
      }
     ],
     "prompt_number": 19
    },
    {
     "cell_type": "markdown",
     "metadata": {},
     "source": [
      "#slicing"
     ]
    },
    {
     "cell_type": "code",
     "collapsed": false,
     "input": [
      "new_list[0:10]"
     ],
     "language": "python",
     "metadata": {},
     "outputs": [
      {
       "metadata": {},
       "output_type": "pyout",
       "prompt_number": 30,
       "text": [
        "[0, 4, 8, 12, 16, 20, 24, 28, 32, 36]"
       ]
      }
     ],
     "prompt_number": 30
    },
    {
     "cell_type": "markdown",
     "metadata": {},
     "source": [
      " There's an old programming proverb which goes something like this:\n",
      "\n",
      "    Show me you algorithm,\n",
      "    and I will remain puzzled,\n",
      "    but show me your data structure,\n",
      "    and I will be enlightened. \n",
      "\n",
      "This is a statement about software and coding, but first and foremost it is about human cognition. The way my brain works is to first visualize the data and then imagine what the algorithm does to it. \n"
     ]
    },
    {
     "cell_type": "code",
     "collapsed": false,
     "input": [
      "tel = {'jack': 4098, 'sape': 4139}\n",
      "tel['guido']"
     ],
     "language": "python",
     "metadata": {},
     "outputs": [
      {
       "ename": "KeyError",
       "evalue": "'guido'",
       "output_type": "pyerr",
       "traceback": [
        "\u001b[1;31m---------------------------------------------------------------------------\u001b[0m\n\u001b[1;31mKeyError\u001b[0m                                  Traceback (most recent call last)",
        "\u001b[1;32m<ipython-input-35-b737ee8d6eae>\u001b[0m in \u001b[0;36m<module>\u001b[1;34m()\u001b[0m\n\u001b[0;32m      1\u001b[0m \u001b[0mtel\u001b[0m \u001b[1;33m=\u001b[0m \u001b[1;33m{\u001b[0m\u001b[1;34m'jack'\u001b[0m\u001b[1;33m:\u001b[0m \u001b[1;36m4098\u001b[0m\u001b[1;33m,\u001b[0m \u001b[1;34m'sape'\u001b[0m\u001b[1;33m:\u001b[0m \u001b[1;36m4139\u001b[0m\u001b[1;33m}\u001b[0m\u001b[1;33m\u001b[0m\u001b[0m\n\u001b[1;32m----> 2\u001b[1;33m \u001b[0mtel\u001b[0m\u001b[1;33m[\u001b[0m\u001b[1;34m'guido'\u001b[0m\u001b[1;33m]\u001b[0m\u001b[1;33m\u001b[0m\u001b[0m\n\u001b[0m",
        "\u001b[1;31mKeyError\u001b[0m: 'guido'"
       ]
      }
     ],
     "prompt_number": 35
    },
    {
     "cell_type": "markdown",
     "metadata": {},
     "source": [
      "i think dictionaries are handled particularly nicely in \n",
      "https://docs.python.org/3/tutorial/datastructures.html#dictionaries"
     ]
    },
    {
     "cell_type": "code",
     "collapsed": false,
     "input": [
      "\n",
      "words = ['spam', 'spam', 'eggs', 'spam']\n"
     ],
     "language": "python",
     "metadata": {},
     "outputs": []
    },
    {
     "cell_type": "code",
     "collapsed": false,
     "input": [
      "from collections import defaultdict\n",
      "word_counter = defaultdict(int)\n",
      "\n",
      "words = ['spam', 'spam', 'eggs', 'spam', 'parrot']\n",
      "\n",
      "for word in words:\n",
      "    word_counter[word] += 1\n",
      "\n",
      "print(word_counter)"
     ],
     "language": "python",
     "metadata": {},
     "outputs": [
      {
       "output_type": "stream",
       "stream": "stdout",
       "text": [
        "defaultdict(<type 'int'>, {'eggs': 1, 'parrot': 1, 'spam': 3})\n"
       ]
      }
     ],
     "prompt_number": 41
    },
    {
     "cell_type": "markdown",
     "metadata": {},
     "source": [
      "Now I'll show you why to write your alrogithms in python, or at least why Norvig of google does\n",
      "#Spell checker"
     ]
    },
    {
     "cell_type": "code",
     "collapsed": false,
     "input": [
      "!wget  http://norvig.com/spell-correct.html"
     ],
     "language": "python",
     "metadata": {},
     "outputs": [],
     "prompt_number": 62
    },
    {
     "cell_type": "code",
     "collapsed": false,
     "input": [
      "#90% of the google spelling corrector in 21 lines of Python"
     ],
     "language": "python",
     "metadata": {},
     "outputs": []
    },
    {
     "cell_type": "code",
     "collapsed": false,
     "input": [
      "!head -n20 big.txt"
     ],
     "language": "python",
     "metadata": {},
     "outputs": [
      {
       "output_type": "stream",
       "stream": "stdout",
       "text": [
        "The Project Gutenberg EBook of The Adventures of Sherlock Holmes\r\n",
        "by Sir Arthur Conan Doyle\r\n",
        "(#15 in our series by Sir Arthur Conan Doyle)\r\n",
        "\r\n",
        "Copyright laws are changing all over the world. Be sure to check the\r\n",
        "copyright laws for your country before downloading or redistributing\r\n",
        "this or any other Project Gutenberg eBook.\r\n",
        "\r\n",
        "This header should be the first thing seen when viewing this Project\r\n",
        "Gutenberg file.  Please do not remove it.  Do not change or edit the\r\n",
        "header without written permission.\r\n",
        "\r\n",
        "Please read the \"legal small print,\" and other information about the\r\n",
        "eBook and Project Gutenberg at the bottom of this file.  Included is\r\n",
        "important information about your specific rights and restrictions in\r\n",
        "how the file may be used.  You can also find out about how to make a\r\n",
        "donation to Project Gutenberg, and how to get involved.\r\n",
        "\r\n",
        "\r\n",
        "**Welcome To The World of Free Plain Vanilla Electronic Texts**\r\n"
       ]
      }
     ],
     "prompt_number": 44
    },
    {
     "cell_type": "code",
     "collapsed": false,
     "input": [
      "NWORDS = train(words(file('big.txt').read()))"
     ],
     "language": "python",
     "metadata": {},
     "outputs": [],
     "prompt_number": 49
    },
    {
     "cell_type": "code",
     "collapsed": false,
     "input": [
      "mylist = [1,2,3,3]\n",
      "print mylist\n",
      "print set(mylist)"
     ],
     "language": "python",
     "metadata": {},
     "outputs": [
      {
       "output_type": "stream",
       "stream": "stdout",
       "text": [
        "[1, 2, 3, 3]\n",
        "set([1, 2, 3])\n"
       ]
      }
     ],
     "prompt_number": 55
    },
    {
     "cell_type": "code",
     "collapsed": false,
     "input": [
      "import re, collections\n",
      "\n",
      "def words(text): \n",
      "    return re.findall('[a-z]+', text.lower()) \n",
      "\n",
      "def train(features):\n",
      "    model = collections.defaultdict(int)\n",
      "    for f in features:\n",
      "        model[f] += 1\n",
      "    return model\n",
      "\n",
      "NWORDS = train(words(file('big.txt').read()))\n",
      "\n",
      "alphabet = 'abcdefghijklmnopqrstuvwxyz'\n",
      "\n",
      "def edits(word):\n",
      "    splits   = [(word[:i], word[i:]) for i in range(len(word) + 1)]\n",
      "    deletes    = [a + b[1:] for a, b in splits if b]\n",
      "    transposes = [a + b[1] + b[0] + b[2:] for a, b in splits if len(b)>1]\n",
      "    replaces   = [a + c + b[1:] for a, b in splits for c in alphabet if b]\n",
      "    inserts    = [a + c + b     for a, b in splits for c in alphabet]\n",
      "    return set(deletes + transposes + replaces + inserts)\n",
      "\n",
      "def known_edits(word):\n",
      "    edits_of_edits = set()\n",
      "    for e1 in edits(word):\n",
      "        for e2 in edits(e1):\n",
      "            if e2 in NWORDS:\n",
      "                edits_of_edits.add(e2)\n",
      "    return edits_of_edits\n",
      "   \n",
      "    #norvigs way\n",
      "    #return set(e2 for e1 in edits(word) for e2 in edits(e1) if e2 in NWORDS)\n",
      "\n",
      "def known(words): \n",
      "    return set(w for w in words if w in NWORDS)\n",
      "\n",
      "def correct(word):\n",
      "    candidates = known([word]) or known(edits(word)) or known_edits(word) or [word]\n",
      "    return max(candidates, key=NWORDS.get)"
     ],
     "language": "python",
     "metadata": {},
     "outputs": [],
     "prompt_number": 45
    },
    {
     "cell_type": "code",
     "collapsed": false,
     "input": [
      "correct('spam')"
     ],
     "language": "python",
     "metadata": {},
     "outputs": [
      {
       "metadata": {},
       "output_type": "pyout",
       "prompt_number": 65,
       "text": [
        "'spasm'"
       ]
      }
     ],
     "prompt_number": 65
    },
    {
     "cell_type": "code",
     "collapsed": false,
     "input": [
      "if  []:\n",
      "    print 'it was true'"
     ],
     "language": "python",
     "metadata": {},
     "outputs": [],
     "prompt_number": 61
    },
    {
     "cell_type": "code",
     "collapsed": false,
     "input": [
      "word = 'spam'\n",
      "splits   = [(word[:i], word[i:]) for i in range(len(word) + 1)]\n",
      "deletes    = [a + b[1:] for a, b in splits if b]\n",
      "transposes = [a + b[1] + b[0] + b[2:] for a, b in splits if len(b)>1]\n",
      "replaces   = [a + c + b[1:] for a, b in splits for c in alphabet if b]\n",
      "inserts    = [a + c + b     for a, b in splits for c in alphabet]\n",
      "print(splits)\n",
      "print(deletes)\n",
      "print(transposes)\n",
      "print(replaces)\n",
      "print(inserts)"
     ],
     "language": "python",
     "metadata": {},
     "outputs": [
      {
       "output_type": "stream",
       "stream": "stdout",
       "text": [
        "[('', 'spam'), ('s', 'pam'), ('sp', 'am'), ('spa', 'm'), ('spam', '')]\n",
        "['pam', 'sam', 'spm', 'spa']\n",
        "['psam', 'sapm', 'spma']\n",
        "['apam', 'bpam', 'cpam', 'dpam', 'epam', 'fpam', 'gpam', 'hpam', 'ipam', 'jpam', 'kpam', 'lpam', 'mpam', 'npam', 'opam', 'ppam', 'qpam', 'rpam', 'spam', 'tpam', 'upam', 'vpam', 'wpam', 'xpam', 'ypam', 'zpam', 'saam', 'sbam', 'scam', 'sdam', 'seam', 'sfam', 'sgam', 'sham', 'siam', 'sjam', 'skam', 'slam', 'smam', 'snam', 'soam', 'spam', 'sqam', 'sram', 'ssam', 'stam', 'suam', 'svam', 'swam', 'sxam', 'syam', 'szam', 'spam', 'spbm', 'spcm', 'spdm', 'spem', 'spfm', 'spgm', 'sphm', 'spim', 'spjm', 'spkm', 'splm', 'spmm', 'spnm', 'spom', 'sppm', 'spqm', 'sprm', 'spsm', 'sptm', 'spum', 'spvm', 'spwm', 'spxm', 'spym', 'spzm', 'spaa', 'spab', 'spac', 'spad', 'spae', 'spaf', 'spag', 'spah', 'spai', 'spaj', 'spak', 'spal', 'spam', 'span', 'spao', 'spap', 'spaq', 'spar', 'spas', 'spat', 'spau', 'spav', 'spaw', 'spax', 'spay', 'spaz']\n",
        "['aspam', 'bspam', 'cspam', 'dspam', 'espam', 'fspam', 'gspam', 'hspam', 'ispam', 'jspam', 'kspam', 'lspam', 'mspam', 'nspam', 'ospam', 'pspam', 'qspam', 'rspam', 'sspam', 'tspam', 'uspam', 'vspam', 'wspam', 'xspam', 'yspam', 'zspam', 'sapam', 'sbpam', 'scpam', 'sdpam', 'sepam', 'sfpam', 'sgpam', 'shpam', 'sipam', 'sjpam', 'skpam', 'slpam', 'smpam', 'snpam', 'sopam', 'sppam', 'sqpam', 'srpam', 'sspam', 'stpam', 'supam', 'svpam', 'swpam', 'sxpam', 'sypam', 'szpam', 'spaam', 'spbam', 'spcam', 'spdam', 'speam', 'spfam', 'spgam', 'spham', 'spiam', 'spjam', 'spkam', 'splam', 'spmam', 'spnam', 'spoam', 'sppam', 'spqam', 'spram', 'spsam', 'sptam', 'spuam', 'spvam', 'spwam', 'spxam', 'spyam', 'spzam', 'spaam', 'spabm', 'spacm', 'spadm', 'spaem', 'spafm', 'spagm', 'spahm', 'spaim', 'spajm', 'spakm', 'spalm', 'spamm', 'spanm', 'spaom', 'spapm', 'spaqm', 'sparm', 'spasm', 'spatm', 'spaum', 'spavm', 'spawm', 'spaxm', 'spaym', 'spazm', 'spama', 'spamb', 'spamc', 'spamd', 'spame', 'spamf', 'spamg', 'spamh', 'spami', 'spamj', 'spamk', 'spaml', 'spamm', 'spamn', 'spamo', 'spamp', 'spamq', 'spamr', 'spams', 'spamt', 'spamu', 'spamv', 'spamw', 'spamx', 'spamy', 'spamz']\n"
       ]
      }
     ],
     "prompt_number": 54
    },
    {
     "cell_type": "code",
     "collapsed": false,
     "input": [
      "def known_edits(word):\n",
      "    edits_of_edits = set()\n",
      "    for e1 in edits(word):\n",
      "        for e2 in edits(e1):\n",
      "            if e2 in NWORDS:\n",
      "                edits_of_edits.add(e2)\n",
      "    return edits_of_edits\n",
      "\n",
      "print known_edits('spam')"
     ],
     "language": "python",
     "metadata": {},
     "outputs": [
      {
       "output_type": "stream",
       "stream": "stdout",
       "text": [
        "set(['sca', 'swag', 'ham', 'swab', 'swam', 'swan', 'jam', 'swap', 'snap', 'sped', 'spasms', 'sway', 'seams', 'dam', 'beam', 'spur', 'pal', 'gram', 'team', 'soar', 'steam', 'seas', 'seat', 'palm', 'sea', 'seal', 'spasm', 'diam', 'space', 'sum', 'saar', 'scar', 'exam', 'stem', 'spray', 'spare', 'spark', 'spake', 'opal', 'scamp', 'roam', 'spear', 'spy', 'loam', 'guam', 'slim', 'speak', 'span', 'stamp', 'sal', 'swarm', 'pa', 'slay', 'spas', 'siam', 'spat', 'pm', 'scab', 'spit', 'slav', 'spin', 'spain', 'sta', 'spun', 'psalm', 'swim', 'san', 'sam', 'scan', 'sac', 'ram', 'am', 'slap', 'sad', 'shame', 'say', 'slam', 'seem', 'sap', 'slab', 'spade', 'sat', 'par', 'pas', 'pat', 'shaw', 'soak', 'paw', 'pay', 'same', 'pad', 'shag', 'shak', 'shah', 'shan', 'soap', 'pan', 'sham', 'star', 'foam', 'spot', 'stay', 'stag', 'stab', 'dram', 'swamp', 'adam', 'saw', 'sa'])\n"
       ]
      }
     ],
     "prompt_number": 56
    },
    {
     "cell_type": "code",
     "collapsed": false,
     "input": [
      "correct('spam')"
     ],
     "language": "python",
     "metadata": {},
     "outputs": [
      {
       "metadata": {},
       "output_type": "pyout",
       "prompt_number": 79,
       "text": [
        "'spasm'"
       ]
      }
     ],
     "prompt_number": 79
    },
    {
     "cell_type": "code",
     "collapsed": false,
     "input": [
      "tests1 = { 'access': 'acess', 'accessing': 'accesing', 'accommodation':\n",
      "    'accomodation acommodation acomodation', 'account': 'acount'}\n",
      "\n",
      "tests2 = {'forbidden': 'forbiden', 'decisions': 'deciscions descisions',\n",
      "    'supposedly': 'supposidly', 'embellishing': 'embelishing'}\n",
      "\n",
      "def spelltest(tests, bias=None, verbose=False):\n",
      "    import time\n",
      "    n, bad, unknown, start = 0, 0, 0, time.clock()\n",
      "    if bias:\n",
      "        for target in tests: NWORDS[target] += bias\n",
      "    for target,wrongs in tests.items():\n",
      "        for wrong in wrongs.split():\n",
      "            n += 1\n",
      "            w = correct(wrong)\n",
      "            if w!=target:\n",
      "                bad += 1\n",
      "                unknown += (target not in NWORDS)\n",
      "                if verbose:\n",
      "                    print '%r => %r (%d); expected %r (%d)' % (\n",
      "                        wrong, w, NWORDS[w], target, NWORDS[target])\n",
      "    return dict(bad=bad, n=n, bias=bias, pct=int(100. - 100.*bad/n), \n",
      "                unknown=unknown, secs=int(time.clock()-start) )\n",
      "\n",
      "print spelltest(tests1)\n",
      "print spelltest(tests2) ## only do this after everything is debugged"
     ],
     "language": "python",
     "metadata": {},
     "outputs": [
      {
       "output_type": "stream",
       "stream": "stdout",
       "text": [
        "{'bad': 2, 'bias': None, 'unknown': 1, 'secs': 0, 'pct': 66, 'n': 6}\n",
        "{'bad': 1, 'bias': None, 'unknown': 1, 'secs': 0, 'pct': 80, 'n': 5}"
       ]
      },
      {
       "output_type": "stream",
       "stream": "stdout",
       "text": [
        "\n"
       ]
      }
     ],
     "prompt_number": 66
    },
    {
     "cell_type": "code",
     "collapsed": false,
     "input": [
      "correct('trace')"
     ],
     "language": "python",
     "metadata": {},
     "outputs": [
      {
       "metadata": {},
       "output_type": "pyout",
       "prompt_number": 80,
       "text": [
        "'trace'"
       ]
      }
     ],
     "prompt_number": 80
    },
    {
     "cell_type": "markdown",
     "metadata": {},
     "source": [
      "#ipython notebook and graphics\n",
      "\n",
      "#results in line with markdown, \n",
      "\n",
      "+an editor and a interpreter in one"
     ]
    },
    {
     "cell_type": "code",
     "collapsed": false,
     "input": [],
     "language": "python",
     "metadata": {},
     "outputs": []
    }
   ],
   "metadata": {}
  }
 ]
}